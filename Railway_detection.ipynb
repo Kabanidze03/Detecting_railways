{
  "cells": [
    {
      "cell_type": "markdown",
      "metadata": {
        "id": "iqWmBNLXlked"
      },
      "source": [
        "## $\\text{Импортируем все необходимые библиотеки}$"
      ]
    },
    {
      "cell_type": "code",
      "execution_count": 1,
      "metadata": {
        "colab": {
          "base_uri": "https://localhost:8080/"
        },
        "id": "U5zB64O9CeD0",
        "outputId": "bb144a64-2ac0-471c-b85b-d7ddd3f0feb2"
      },
      "outputs": [
        {
          "name": "stdout",
          "output_type": "stream",
          "text": [
            "Collecting catboost\n",
            "  Downloading catboost-1.2.8-cp311-cp311-manylinux2014_x86_64.whl.metadata (1.2 kB)\n",
            "Requirement already satisfied: graphviz in /usr/local/lib/python3.11/dist-packages (from catboost) (0.21)\n",
            "Requirement already satisfied: matplotlib in /usr/local/lib/python3.11/dist-packages (from catboost) (3.10.0)\n",
            "Requirement already satisfied: numpy<3.0,>=1.16.0 in /usr/local/lib/python3.11/dist-packages (from catboost) (2.0.2)\n",
            "Requirement already satisfied: pandas>=0.24 in /usr/local/lib/python3.11/dist-packages (from catboost) (2.2.2)\n",
            "Requirement already satisfied: scipy in /usr/local/lib/python3.11/dist-packages (from catboost) (1.15.3)\n",
            "Requirement already satisfied: plotly in /usr/local/lib/python3.11/dist-packages (from catboost) (5.24.1)\n",
            "Requirement already satisfied: six in /usr/local/lib/python3.11/dist-packages (from catboost) (1.17.0)\n",
            "Requirement already satisfied: python-dateutil>=2.8.2 in /usr/local/lib/python3.11/dist-packages (from pandas>=0.24->catboost) (2.9.0.post0)\n",
            "Requirement already satisfied: pytz>=2020.1 in /usr/local/lib/python3.11/dist-packages (from pandas>=0.24->catboost) (2025.2)\n",
            "Requirement already satisfied: tzdata>=2022.7 in /usr/local/lib/python3.11/dist-packages (from pandas>=0.24->catboost) (2025.2)\n",
            "Requirement already satisfied: contourpy>=1.0.1 in /usr/local/lib/python3.11/dist-packages (from matplotlib->catboost) (1.3.2)\n",
            "Requirement already satisfied: cycler>=0.10 in /usr/local/lib/python3.11/dist-packages (from matplotlib->catboost) (0.12.1)\n",
            "Requirement already satisfied: fonttools>=4.22.0 in /usr/local/lib/python3.11/dist-packages (from matplotlib->catboost) (4.58.4)\n",
            "Requirement already satisfied: kiwisolver>=1.3.1 in /usr/local/lib/python3.11/dist-packages (from matplotlib->catboost) (1.4.8)\n",
            "Requirement already satisfied: packaging>=20.0 in /usr/local/lib/python3.11/dist-packages (from matplotlib->catboost) (24.2)\n",
            "Requirement already satisfied: pillow>=8 in /usr/local/lib/python3.11/dist-packages (from matplotlib->catboost) (11.2.1)\n",
            "Requirement already satisfied: pyparsing>=2.3.1 in /usr/local/lib/python3.11/dist-packages (from matplotlib->catboost) (3.2.3)\n",
            "Requirement already satisfied: tenacity>=6.2.0 in /usr/local/lib/python3.11/dist-packages (from plotly->catboost) (9.1.2)\n",
            "Downloading catboost-1.2.8-cp311-cp311-manylinux2014_x86_64.whl (99.2 MB)\n",
            "\u001b[2K   \u001b[90m━━━━━━━━━━━━━━━━━━━━━━━━━━━━━━━━━━━━━━━━\u001b[0m \u001b[32m99.2/99.2 MB\u001b[0m \u001b[31m9.5 MB/s\u001b[0m eta \u001b[36m0:00:00\u001b[0m\n",
            "\u001b[?25hInstalling collected packages: catboost\n",
            "Successfully installed catboost-1.2.8\n"
          ]
        }
      ],
      "source": [
        "!pip install catboost"
      ]
    },
    {
      "cell_type": "code",
      "execution_count": 2,
      "metadata": {
        "colab": {
          "base_uri": "https://localhost:8080/"
        },
        "id": "bN3DZgz2GMRV",
        "outputId": "e31e6b02-099f-4b9b-d827-767db4fc6a00"
      },
      "outputs": [
        {
          "name": "stdout",
          "output_type": "stream",
          "text": [
            "Collecting optuna\n",
            "  Downloading optuna-4.4.0-py3-none-any.whl.metadata (17 kB)\n",
            "Collecting alembic>=1.5.0 (from optuna)\n",
            "  Downloading alembic-1.16.2-py3-none-any.whl.metadata (7.3 kB)\n",
            "Collecting colorlog (from optuna)\n",
            "  Downloading colorlog-6.9.0-py3-none-any.whl.metadata (10 kB)\n",
            "Requirement already satisfied: numpy in /usr/local/lib/python3.11/dist-packages (from optuna) (2.0.2)\n",
            "Requirement already satisfied: packaging>=20.0 in /usr/local/lib/python3.11/dist-packages (from optuna) (24.2)\n",
            "Requirement already satisfied: sqlalchemy>=1.4.2 in /usr/local/lib/python3.11/dist-packages (from optuna) (2.0.41)\n",
            "Requirement already satisfied: tqdm in /usr/local/lib/python3.11/dist-packages (from optuna) (4.67.1)\n",
            "Requirement already satisfied: PyYAML in /usr/local/lib/python3.11/dist-packages (from optuna) (6.0.2)\n",
            "Requirement already satisfied: Mako in /usr/lib/python3/dist-packages (from alembic>=1.5.0->optuna) (1.1.3)\n",
            "Requirement already satisfied: typing-extensions>=4.12 in /usr/local/lib/python3.11/dist-packages (from alembic>=1.5.0->optuna) (4.14.0)\n",
            "Requirement already satisfied: greenlet>=1 in /usr/local/lib/python3.11/dist-packages (from sqlalchemy>=1.4.2->optuna) (3.2.3)\n",
            "Downloading optuna-4.4.0-py3-none-any.whl (395 kB)\n",
            "\u001b[2K   \u001b[90m━━━━━━━━━━━━━━━━━━━━━━━━━━━━━━━━━━━━━━━━\u001b[0m \u001b[32m395.9/395.9 kB\u001b[0m \u001b[31m6.5 MB/s\u001b[0m eta \u001b[36m0:00:00\u001b[0m\n",
            "\u001b[?25hDownloading alembic-1.16.2-py3-none-any.whl (242 kB)\n",
            "\u001b[2K   \u001b[90m━━━━━━━━━━━━━━━━━━━━━━━━━━━━━━━━━━━━━━━━\u001b[0m \u001b[32m242.7/242.7 kB\u001b[0m \u001b[31m15.4 MB/s\u001b[0m eta \u001b[36m0:00:00\u001b[0m\n",
            "\u001b[?25hDownloading colorlog-6.9.0-py3-none-any.whl (11 kB)\n",
            "Installing collected packages: colorlog, alembic, optuna\n",
            "Successfully installed alembic-1.16.2 colorlog-6.9.0 optuna-4.4.0\n"
          ]
        }
      ],
      "source": [
        "!pip install optuna"
      ]
    },
    {
      "cell_type": "code",
      "execution_count": 3,
      "metadata": {
        "colab": {
          "base_uri": "https://localhost:8080/"
        },
        "id": "my-jd3SPAsAq",
        "outputId": "0474142b-5b53-4536-a3b2-72f49dad724b"
      },
      "outputs": [
        {
          "name": "stdout",
          "output_type": "stream",
          "text": [
            "Drive already mounted at /content/drive; to attempt to forcibly remount, call drive.mount(\"/content/drive\", force_remount=True).\n"
          ]
        }
      ],
      "source": [
        "from google.colab import drive\n",
        "drive.mount('/content/drive')"
      ]
    },
    {
      "cell_type": "code",
      "execution_count": 18,
      "metadata": {
        "id": "DbfFwJxQlfXc"
      },
      "outputs": [],
      "source": [
        "import re\n",
        "import math\n",
        "import torch\n",
        "import random\n",
        "import shutil\n",
        "import collections\n",
        "import numpy as np\n",
        "import pandas as pd\n",
        "import torch.nn as nn\n",
        "import seaborn as sns\n",
        "import matplotlib.pyplot as plt\n",
        "from tqdm import tqdm\n",
        "from catboost import CatBoostClassifier\n",
        "from transformers import AutoTokenizer\n",
        "from sklearn.metrics import roc_auc_score, accuracy_score, f1_score, precision_score, recall_score, confusion_matrix\n",
        "from torchvision import transforms\n",
        "from torchvision.models import resnext101_32x8d\n",
        "from torch.nn.utils import clip_grad_norm_\n",
        "from torch.optim import AdamW, lr_scheduler\n",
        "from torchvision.datasets import ImageFolder\n",
        "from torch.utils.data import Dataset, DataLoader, random_split\n",
        "from sklearn.model_selection import train_test_split"
      ]
    },
    {
      "cell_type": "code",
      "execution_count": 7,
      "metadata": {
        "colab": {
          "base_uri": "https://localhost:8080/"
        },
        "id": "xt9bqHrldZSr",
        "outputId": "14d70dba-0edf-4fea-d429-cc195597c544"
      },
      "outputs": [
        {
          "data": {
            "text/plain": [
              "device(type='cpu')"
            ]
          },
          "execution_count": 7,
          "metadata": {},
          "output_type": "execute_result"
        }
      ],
      "source": [
        "device = torch.device('cuda' if torch.cuda.is_available() else 'cpu')\n",
        "device"
      ]
    },
    {
      "cell_type": "markdown",
      "metadata": {
        "id": "fdk0jLSLmam3"
      },
      "source": [
        "## $\\text{Займемся формированием датасета для обучения нашей модели}$"
      ]
    },
    {
      "cell_type": "code",
      "execution_count": 8,
      "metadata": {
        "id": "kw_32HG2mW6F"
      },
      "outputs": [],
      "source": [
        "transform = transforms.Compose([\n",
        "    transforms.CenterCrop(224),\n",
        "    transforms.ToTensor(),\n",
        "    transforms.Normalize(mean=[0.485, 0.456, 0.406],\n",
        "                         std=[0.229, 0.224, 0.225])\n",
        "])\n",
        "\n",
        "data = ImageFolder(\"/content/drive/MyDrive/data\", transform=transform)"
      ]
    },
    {
      "cell_type": "code",
      "execution_count": 9,
      "metadata": {
        "id": "za-9kV8x-MFZ"
      },
      "outputs": [],
      "source": [
        "train_size = int(0.8*len(data))\n",
        "test_size= len(data) - train_size\n",
        "\n",
        "train_data, test_data = random_split(data, [train_size, test_size])"
      ]
    },
    {
      "cell_type": "code",
      "execution_count": 10,
      "metadata": {
        "id": "RErLJXXp-Fqs"
      },
      "outputs": [],
      "source": [
        "batch_size = 8\n",
        "\n",
        "train_loader = DataLoader(train_data, 8, shuffle=True)\n",
        "test_loader = DataLoader(test_data, 8)"
      ]
    },
    {
      "cell_type": "code",
      "execution_count": 10,
      "metadata": {
        "colab": {
          "base_uri": "https://localhost:8080/"
        },
        "id": "CE94FfHFExfp",
        "outputId": "a3424a0b-0d6c-4c07-f3c1-1762b4422090"
      },
      "outputs": [
        {
          "name": "stderr",
          "output_type": "stream",
          "text": [
            "Downloading: \"https://download.pytorch.org/models/resnext101_32x8d-110c445d.pth\" to /root/.cache/torch/hub/checkpoints/resnext101_32x8d-110c445d.pth\n",
            "100%|██████████| 340M/340M [00:02<00:00, 145MB/s]\n"
          ]
        }
      ],
      "source": [
        "model = resnext101_32x8d(weights='ResNeXt101_32X8D_Weights.IMAGENET1K_V2')"
      ]
    },
    {
      "cell_type": "markdown",
      "metadata": {
        "id": "CFKp0G9MU37b"
      },
      "source": [
        "### $\\text{Поскольку мы будем использовать предтренированную модель, то нам} $\n",
        "### $\\text{нужно убрать последний слой, потому что он нужен для классификации на датасете ImageNet}$"
      ]
    },
    {
      "cell_type": "code",
      "execution_count": null,
      "metadata": {
        "id": "4H8pzblnUi1e"
      },
      "outputs": [],
      "source": [
        "model = nn.Sequential(*list(model.children())[:-1]).to(device) # убираем последний слой"
      ]
    },
    {
      "cell_type": "markdown",
      "metadata": {
        "id": "szOCEdsYetZu"
      },
      "source": [
        "### $\\text{Далее применим следующую идею:}$\n",
        "### $\\text{Будем прогонять наши изображения через предтренированную модель,}$\n",
        "### $\\text{после чего полученные эмбэддинги будем подаватьв градиентный бустинг,}$\n",
        "### $\\text{и вот уже его будем обучать на классификацию}$"
      ]
    },
    {
      "cell_type": "code",
      "execution_count": null,
      "metadata": {
        "colab": {
          "base_uri": "https://localhost:8080/"
        },
        "id": "vMhZGbY_fV1e",
        "outputId": "a457d48e-a285-4da0-f09f-3926e9183fdb"
      },
      "outputs": [
        {
          "name": "stderr",
          "output_type": "stream",
          "text": [
            "100%|██████████| 60/60 [01:59<00:00,  1.99s/it]\n"
          ]
        }
      ],
      "source": [
        "train_embeddings = []\n",
        "train_labels = []\n",
        "\n",
        "test_embeddings = []\n",
        "test_labels = []\n",
        "\n",
        "model.eval()\n",
        "\n",
        "with torch.no_grad():\n",
        "    for images, labels in tqdm(train_loader):\n",
        "        out = model(images.to(device))\n",
        "        # print(out)\n",
        "        # print(f\"out.shape: {out.shape}\")\n",
        "        # print(f\"out_reshape: {out.view(out.size(0), -1)}\")\n",
        "\n",
        "        train_embeddings.append(out.view(out.size(0), -1).cpu().numpy())\n",
        "        train_labels.append(labels.cpu().numpy())"
      ]
    },
    {
      "cell_type": "code",
      "execution_count": null,
      "metadata": {
        "colab": {
          "base_uri": "https://localhost:8080/"
        },
        "id": "9qFuRnEwgUn_",
        "outputId": "bec5f248-5915-4d05-ed19-c29f186e81c2"
      },
      "outputs": [
        {
          "name": "stderr",
          "output_type": "stream",
          "text": [
            "100%|██████████| 15/15 [00:31<00:00,  2.09s/it]\n"
          ]
        }
      ],
      "source": [
        "with torch.no_grad():\n",
        "    for images, labels in tqdm(test_loader):\n",
        "        out = model(images.to(device))\n",
        "        # print(out)\n",
        "        # print(f\"out.shape: {out.shape}\")\n",
        "        # print(f\"out_reshape: {out.view(out.size(0), -1)}\")\n",
        "\n",
        "        test_embeddings.append(out.view(out.size(0), -1).cpu().numpy())\n",
        "        test_labels.append(labels.cpu().numpy())"
      ]
    },
    {
      "cell_type": "markdown",
      "metadata": {
        "id": "8yWrMU5pA4wq"
      },
      "source": [
        "### $\\text{Создадим выборки для того, чтобы их можно было подавать в градиентный бустинг}$"
      ]
    },
    {
      "cell_type": "code",
      "execution_count": null,
      "metadata": {
        "id": "EjslJcMLgWTt"
      },
      "outputs": [],
      "source": [
        "X_train = np.concatenate(train_embeddings, axis=0)\n",
        "y_train = np.concatenate(train_labels, axis=0)\n",
        "\n",
        "X_test = np.concatenate(test_embeddings, axis=0)\n",
        "y_test = np.concatenate(test_labels, axis=0)"
      ]
    },
    {
      "cell_type": "code",
      "execution_count": null,
      "metadata": {
        "id": "ca-gbYRbAaBL"
      },
      "outputs": [],
      "source": [
        "np.save('/content/drive/MyDrive/train_embeddings.npy', X_train.astype(np.float32))\n",
        "np.save('/content/drive/MyDrive/train_labels.npy', y_train)"
      ]
    },
    {
      "cell_type": "code",
      "execution_count": null,
      "metadata": {
        "id": "T9z__tICBZ9I"
      },
      "outputs": [],
      "source": [
        "np.save('/content/drive/MyDrive/test_embeddings.npy', X_test.astype(np.float32))\n",
        "np.save('/content/drive/MyDrive/test_labels.npy', y_test)"
      ]
    },
    {
      "cell_type": "markdown",
      "metadata": {
        "id": "AaxFYWTFBzGf"
      },
      "source": [
        "### $\\text{Далее обучим градиентный бустинг на классификацию наличия ж/д на фотографиях}$"
      ]
    },
    {
      "cell_type": "code",
      "execution_count": 11,
      "metadata": {
        "id": "QmlhieeX7qte"
      },
      "outputs": [],
      "source": [
        "X_train = np.load('/content/drive/MyDrive/train_embeddings.npy')\n",
        "y_train = np.load('/content/drive/MyDrive/train_labels.npy')"
      ]
    },
    {
      "cell_type": "code",
      "execution_count": 12,
      "metadata": {
        "id": "BUMoUm-z7-d8"
      },
      "outputs": [],
      "source": [
        "X_test = np.load('/content/drive/MyDrive/test_embeddings.npy')\n",
        "y_test = np.load('/content/drive/MyDrive/test_labels.npy')"
      ]
    },
    {
      "cell_type": "code",
      "execution_count": 13,
      "metadata": {
        "id": "RJH7D3f3BeYV"
      },
      "outputs": [],
      "source": [
        "classifier = CatBoostClassifier(verbose=0)"
      ]
    },
    {
      "cell_type": "code",
      "execution_count": 14,
      "metadata": {
        "colab": {
          "base_uri": "https://localhost:8080/"
        },
        "id": "J_CzySk9Hx8j",
        "outputId": "3e1c4c5e-2cbc-4036-e368-ccc4dd8e583e"
      },
      "outputs": [
        {
          "data": {
            "text/plain": [
              "<catboost.core.CatBoostClassifier at 0x7a7b7a33b590>"
            ]
          },
          "execution_count": 14,
          "metadata": {},
          "output_type": "execute_result"
        }
      ],
      "source": [
        "classifier.fit(X_train, y_train)"
      ]
    },
    {
      "cell_type": "markdown",
      "metadata": {
        "id": "zdQdVvswLkE_"
      },
      "source": [
        "### $\\text{Далее проведем инференс нашей модели, посмотрим и}$\n",
        "### $\\text{оценим основные метрики классфикации и сделаем выводы}$"
      ]
    },
    {
      "cell_type": "code",
      "execution_count": 15,
      "metadata": {
        "id": "MBlMPPipH-f2"
      },
      "outputs": [],
      "source": [
        "outputs = classifier.predict(X_test)"
      ]
    },
    {
      "cell_type": "markdown",
      "metadata": {
        "id": "NwPlSg_WBs_7"
      },
      "source": [
        "### $\\small \\text{Accuracy score:}$\n",
        "### $$\\small \\text{Accuracy} = \\frac{TP + TN}{TP + TN + FP + FN}$$"
      ]
    },
    {
      "cell_type": "code",
      "execution_count": 16,
      "metadata": {
        "colab": {
          "base_uri": "https://localhost:8080/"
        },
        "id": "1eBRj2CfKBpZ",
        "outputId": "35015a54-abee-43b6-f44f-fce9ceb001b8"
      },
      "outputs": [
        {
          "name": "stdout",
          "output_type": "stream",
          "text": [
            "Accuracy = 0.8\n"
          ]
        }
      ],
      "source": [
        "accuracy = accuracy_score(y_test, outputs)\n",
        "print(f\"Accuracy = {accuracy}\")"
      ]
    },
    {
      "cell_type": "markdown",
      "metadata": {
        "id": "o_qoZQ7RJYWX"
      },
      "source": [
        "### $\\small \\text{F1-score, precision и recall}$\n",
        "### $\\text{Для этого познакомимся со следующими понятиями:}$"
      ]
    },
    {
      "cell_type": "markdown",
      "metadata": {
        "id": "w9e1993kJzci"
      },
      "source": [
        "$$\n",
        "\\begin{aligned}\n",
        "\\large \\text{TP} &= \\text{True Positive} \\quad \\Large \\text{(правильно определили, что есть ЖД)} \\\\\n",
        "\\large \\text{FP} &= \\text{False Positive} \\quad \\Large \\text{(ошибочно предсказали ЖД)} \\\\\n",
        "\\large \\text{FN} &= \\text{False Negative} \\quad \\Large \\text{(пропустили ЖД)}\n",
        "\\end{aligned}\n",
        "$$"
      ]
    },
    {
      "cell_type": "markdown",
      "metadata": {
        "id": "PjW-JWbrBymH"
      },
      "source": [
        "### $\\text{Формулы:}$\n",
        "### $$\\small \\text{Precision} = \\frac{TP}{TP + FP}$$\n",
        "### $$\\small \\text{Recall} = \\frac{TP}{TP + FN}$$\n",
        "### $$\\small \\text{F}_{1} = \\frac{2}{\\frac{1}{Precision}+\\frac{1}{Recall}}$$"
      ]
    },
    {
      "cell_type": "code",
      "execution_count": 17,
      "metadata": {
        "colab": {
          "base_uri": "https://localhost:8080/"
        },
        "id": "JJ-JdIZZBOeR",
        "outputId": "c906a74b-4232-49c7-be8c-5d183ca9e863"
      },
      "outputs": [
        {
          "name": "stdout",
          "output_type": "stream",
          "text": [
            "precision = 0.7741935483870968\n",
            "recall = 0.8275862068965517\n",
            "f1 = 0.8\n"
          ]
        }
      ],
      "source": [
        "precision = precision_score(y_test, outputs)\n",
        "recall = recall_score(y_test, outputs)\n",
        "f1 = f1_score(y_test, outputs)\n",
        "\n",
        "print(f\"precision = {precision}\")\n",
        "print(f\"recall = {recall}\")\n",
        "print(f\"f1 = {f1}\")"
      ]
    },
    {
      "cell_type": "markdown",
      "metadata": {
        "id": "7-vOkfcAPy48"
      },
      "source": [
        "### $\\text{Также в задачах классификации удобно пользоваться матрицей ошибок } \\small \\text{Confusion Matrix}$\n",
        "### $\\text{Матрица представляет собой 2 столбца и 2 колонки, по которым считаются все основные метрики}$"
      ]
    },
    {
      "cell_type": "code",
      "execution_count": 19,
      "metadata": {
        "id": "ktkRgBlnQ-mL"
      },
      "outputs": [],
      "source": [
        "conf_matr = confusion_matrix(y_test, outputs)"
      ]
    },
    {
      "cell_type": "code",
      "execution_count": 20,
      "metadata": {
        "colab": {
          "base_uri": "https://localhost:8080/",
          "height": 564
        },
        "id": "iUkBzZ28PZvw",
        "outputId": "b3364d9f-e3f7-48f2-817c-fbf5c16b7520"
      },
      "outputs": [
        {
          "data": {
            "image/png": "[encoded data removed]",
            "text/plain": [
              "<Figure size 800x600 with 1 Axes>"
            ]
          },
          "metadata": {},
          "output_type": "display_data"
        }
      ],
      "source": [
        "plt.figure(figsize=(8, 6))\n",
        "sns.heatmap(conf_matr, annot=True, fmt='d', cmap='Blues', cbar=False,\n",
        "            xticklabels=['Predicted Negative', 'Predicted Positive'],\n",
        "            yticklabels=['True Negative', 'True Positive'])\n",
        "plt.xlabel('Predicted')\n",
        "plt.ylabel('Actual')\n",
        "plt.title('Confusion Matrix')\n",
        "plt.show()"
      ]
    }
  ],
  "metadata": {
    "colab": {
      "provenance": []
    },
    "kernelspec": {
      "display_name": "Python 3",
      "name": "python3"
    },
    "language_info": {
      "name": "python"
    }
  },
  "nbformat": 4,
  "nbformat_minor": 0
}
